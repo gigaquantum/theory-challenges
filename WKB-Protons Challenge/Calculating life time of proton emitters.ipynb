{
 "cells": [
  {
   "cell_type": "markdown",
   "id": "f89d0ce2",
   "metadata": {},
   "source": [
    "# Calculating life time of proton emitters"
   ]
  },
  {
   "cell_type": "markdown",
   "id": "434fe4d9",
   "metadata": {},
   "source": [
    "The purpose of this challenge is for you to calculate, and compare with experimental data, the life time of proton decays for several proton emitter nuclei. We will follow the directions of the accompanying file: \"WKB-protons.pdf\" prepared by Witek Nazarewicz as part of his nuclear structure class.\n",
    "\n",
    "Your task is to:\n",
    "\n",
    "- Solve questions 1 and 2 of the attached pdf. Consider that making integrals is easy if you discretize the \"x\" space and replace them by dot products (ask for help if you don't know how to do this)"
   ]
  },
  {
   "cell_type": "code",
   "execution_count": 2,
   "id": "8a846edb",
   "metadata": {},
   "outputs": [],
   "source": [
    "import numpy as np\n",
    "import matplotlib.pyplot as plt"
   ]
  },
  {
   "cell_type": "code",
   "execution_count": 3,
   "id": "b677f0db",
   "metadata": {},
   "outputs": [],
   "source": [
    "# Smart code goes here"
   ]
  }
 ],
 "metadata": {
  "kernelspec": {
   "display_name": "Python 3 (ipykernel)",
   "language": "python",
   "name": "python3"
  },
  "language_info": {
   "codemirror_mode": {
    "name": "ipython",
    "version": 3
   },
   "file_extension": ".py",
   "mimetype": "text/x-python",
   "name": "python",
   "nbconvert_exporter": "python",
   "pygments_lexer": "ipython3",
   "version": "3.10.6"
  }
 },
 "nbformat": 4,
 "nbformat_minor": 5
}
